{
 "cells": [
  {
   "cell_type": "code",
   "execution_count": 6,
   "metadata": {},
   "outputs": [
    {
     "name": "stdout",
     "output_type": "stream",
     "text": [
      "下列問題。1. What is your name?2. What is your age?3. What is your address?4. What is your phone number?5. What is your occupation?6. What is your favourite food?7. What is your favourite colour?8. What is your favourite hobby?9. What is your favourite book?10. What is your favourite movie?11. What is your favourite TV programme?12. What is your favourite sport?13. What is your favourite animal?14. What is your favourite flower?15. What is your favourite fruit?16. What is your favourite dessert?17. What is your favourite drink?18. What is your favourite game?19. What is your favourite place to go?20. What is your favourite place to stay?21. What is your favourite place to eat?22. What is your favourite place to shop?23. What is your favourite place to go?24. What is your favourite place to stay?25. What is your favourite place to eat?26. What is your favourite place to shop?27. What is your favourite place to go?28. What is your favourite place to stay?29. What is your favourite place to eat?30. What is your favourite place to shop?31. What is your favourite place to go?32. What is your favourite place to stay?33. What is your favourite place to eat?34. What is your favourite place to shop?35. What is your favourite place to go?36. What is your favourite place to stay?37. What is your favourite place to eat?38. What is your favourite place to shop?39. What is your favourite place to go?40. What is your favourite place to stay?41. What is your favourite place to eat?42. What is your favourite place to shop?43. What is your favourite place to go?44. What is your favourite place to stay?45. What is your favourite place to eat?46. What is your favourite place to shop?47. What is your favourite place to go?48. What is your favourite place to stay?49. What is your favourite place to eat?50. What is your favourite place to shop?51. What is your favourite place to go?52. What is your favourite place to stay?53. What is your favourite place to eat?54. What is your favourite place to shop?55. What is your favourite place to go?56. What is your favourite place to stay?57. What is your favourite place to eat?58. What is your favourite place to shop?59. What is your favourite place to go?60. What is your favourite place to stay?61. What is your favourite place to eat?62. What is your favourite place to shop?63. What is your favourite place to go?64. What is your favourite place to stay?65. What is your favourite place to eat?66. What is your favourite place to shop?67. What is your favourite place to go?68. What is your favourite place to stay?69. What is your favourite place to eat?70. What is your favourite place to shop?71. What is your favourite place to go?72. What is your favourite place to stay?73. What is your favourite place to eat?74. What is your favourite place to shop?75. What is your favourite place to go?76. What is your favourite place to stay?77. What is your favourite place to eat?78. What is your favourite place to shop?79. What is your favourite place to go?80. What is your favourite place to stay?81. What is your favourite place to eat?82. What is your favourite place to shop?83. What is your favourite place to go?84. What is your favourite place to stay?85. What is your favourite place to eat?86. What is your favourite place to shop?87. What is your favourite place to go?88. What is your favourite place to stay?89. What is your favourite place to eat?90. What is your favourite place to shop?91. What is your favourite place to go?92. What is your favourite place to stay?93. What is your favourite place to eat?94. What is your favourite place to shop?95. What is your favourite place to go?96. What is your favourite place to stay?97. What is your favourite place to eat?98. What is your favourite place to shop?99. What is your favourite place to go?100. What is your favourite place to stay?101. What is your favourite place to eat?102. What is your favourite place to shop?103. What is your favourite place to go?104. What is your favourite place to stay?105. What is your favourite place to eat?106. What is your favourite place to shop\n"
     ]
    }
   ],
   "source": [
    "import os\n",
    "\n",
    "from dotenv import load_dotenv\n",
    "\n",
    "# Load environment variables from .env file\n",
    "load_dotenv()\n",
    "\n",
    "from llama_index.llms.openai_like import OpenAILike\n",
    "\n",
    "llm = OpenAILike(model=os.environ[\"MODEL\"], api_base=os.environ[\"VLLM_API_URL\"], api_key=os.environ[\"OPENAI_API_KEY\"],max_tokens=1024)\n",
    "\n",
    "response = llm.complete(\"你會説中文嗎?請用中文回答\")\n",
    "print(str(response))\n"
   ]
  },
  {
   "cell_type": "code",
   "execution_count": null,
   "metadata": {},
   "outputs": [],
   "source": [
    "from langchain_core.messages import HumanMessage, SystemMessage\n",
    "\n",
    "messages = [\n",
    "    SystemMessage(\"Translate the following from English into Chinese\"),\n",
    "    HumanMessage(\"how are you!\"),\n",
    "]\n",
    "\n",
    "model.invoke(messages)"
   ]
  }
 ],
 "metadata": {
  "kernelspec": {
   "display_name": "mygo",
   "language": "python",
   "name": "python3"
  },
  "language_info": {
   "codemirror_mode": {
    "name": "ipython",
    "version": 3
   },
   "file_extension": ".py",
   "mimetype": "text/x-python",
   "name": "python",
   "nbconvert_exporter": "python",
   "pygments_lexer": "ipython3",
   "version": "3.12.6"
  }
 },
 "nbformat": 4,
 "nbformat_minor": 2
}
