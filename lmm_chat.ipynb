{
 "cells": [
  {
   "cell_type": "code",
   "execution_count": 1,
   "metadata": {},
   "outputs": [
    {
     "name": "stderr",
     "output_type": "stream",
     "text": [
      "c:\\Users\\AORUS\\Desktop\\program\\mygo_llm\\mygo\\Lib\\site-packages\\tqdm\\auto.py:21: TqdmWarning: IProgress not found. Please update jupyter and ipywidgets. See https://ipywidgets.readthedocs.io/en/stable/user_install.html\n",
      "  from .autonotebook import tqdm as notebook_tqdm\n",
      "get metadata: 100%|██████████| 4941/4941 [00:00<00:00, 61390.79it/s]\n",
      "c:\\Users\\AORUS\\Desktop\\program\\mygo_llm\\src\\llm_process\\implement\\bind_embedding_to_db.py:17: RuntimeWarning: coroutine 'PGVector.afrom_texts' was never awaited\n",
      "  db.afrom_texts(texts=character_speech_list,embedding=db.embeddings,metadatas=metadatas)\n",
      "RuntimeWarning: Enable tracemalloc to get the object allocation traceback\n"
     ]
    }
   ],
   "source": [
    "from src.llm_process.utils.load_vectordb import load_vectordb\n",
    "from src.llm_process.implement.bind_embedding_to_db import bind_embedding\n",
    "\n",
    "db = load_vectordb()\n",
    "bind_embedding(db)"
   ]
  },
  {
   "cell_type": "code",
   "execution_count": 2,
   "metadata": {},
   "outputs": [],
   "source": [
    "retriever = db.as_retriever()\n"
   ]
  },
  {
   "cell_type": "code",
   "execution_count": 5,
   "metadata": {},
   "outputs": [
    {
     "data": {
      "text/plain": [
       "[Document(id='846c427e-3c35-4b96-b541-d48e6121e60d', metadata={'episode': 12, 'time_range': '676870-677670'}, page_content='taki: 燈…'),\n",
       " Document(id='d7a99db3-4eb4-4450-851c-39f749c7a3a6', metadata={'episode': 10, 'time_range': '739890-740580'}, page_content='taki: 燈…'),\n",
       " Document(id='811a453e-5777-4495-89ab-48c2c005be52', metadata={'episode': 10, 'time_range': '1026330-1027790'}, page_content='other: 燈？'),\n",
       " Document(id='454d7c13-e27d-4812-9d5d-d4a94e9c84e8', metadata={'time_range': '467110-468220'}, page_content='s')]"
      ]
     },
     "execution_count": 5,
     "metadata": {},
     "output_type": "execute_result"
    }
   ],
   "source": [
    "retrieved_documents = retriever.invoke(\"燈\")\n",
    "retrieved_documents"
   ]
  },
  {
   "cell_type": "code",
   "execution_count": null,
   "metadata": {},
   "outputs": [],
   "source": []
  }
 ],
 "metadata": {
  "kernelspec": {
   "display_name": "mygo",
   "language": "python",
   "name": "python3"
  },
  "language_info": {
   "codemirror_mode": {
    "name": "ipython",
    "version": 3
   },
   "file_extension": ".py",
   "mimetype": "text/x-python",
   "name": "python",
   "nbconvert_exporter": "python",
   "pygments_lexer": "ipython3",
   "version": "3.12.6"
  }
 },
 "nbformat": 4,
 "nbformat_minor": 2
}
