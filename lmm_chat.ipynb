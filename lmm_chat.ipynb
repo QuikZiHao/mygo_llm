{
 "cells": [
  {
   "cell_type": "markdown",
   "metadata": {},
   "source": [
    "# Get Binding Data"
   ]
  },
  {
   "cell_type": "code",
   "execution_count": 1,
   "metadata": {},
   "outputs": [
    {
     "name": "stderr",
     "output_type": "stream",
     "text": [
      "c:\\Users\\AORUS\\Desktop\\program\\mygo_llm\\mygo\\Lib\\site-packages\\tqdm\\auto.py:21: TqdmWarning: IProgress not found. Please update jupyter and ipywidgets. See https://ipywidgets.readthedocs.io/en/stable/user_install.html\n",
      "  from .autonotebook import tqdm as notebook_tqdm\n"
     ]
    },
    {
     "data": {
      "text/plain": [
       "['1',\n",
       " '2',\n",
       " '3',\n",
       " '4',\n",
       " '5',\n",
       " '6',\n",
       " '7',\n",
       " '8',\n",
       " '9',\n",
       " '10',\n",
       " '11',\n",
       " '12',\n",
       " '13',\n",
       " '14',\n",
       " '15',\n",
       " '16',\n",
       " '17',\n",
       " '18',\n",
       " '19',\n",
       " '20',\n",
       " '21',\n",
       " '22',\n",
       " '23',\n",
       " '24',\n",
       " '25',\n",
       " '26',\n",
       " '27',\n",
       " '28',\n",
       " '29',\n",
       " '30',\n",
       " '31',\n",
       " '32',\n",
       " '33',\n",
       " '34',\n",
       " '35',\n",
       " '36',\n",
       " '37',\n",
       " '38',\n",
       " '39',\n",
       " '40',\n",
       " '41',\n",
       " '42',\n",
       " '43',\n",
       " '44',\n",
       " '45',\n",
       " '46',\n",
       " '47',\n",
       " '48',\n",
       " '49',\n",
       " '50',\n",
       " '51',\n",
       " '52',\n",
       " '53',\n",
       " '54',\n",
       " '55',\n",
       " '56',\n",
       " '57',\n",
       " '58',\n",
       " '59',\n",
       " '60',\n",
       " '61',\n",
       " '62',\n",
       " '63',\n",
       " '64',\n",
       " '65',\n",
       " '66',\n",
       " '67',\n",
       " '68',\n",
       " '69',\n",
       " '70',\n",
       " '71',\n",
       " '72',\n",
       " '73',\n",
       " '74',\n",
       " '75',\n",
       " '76',\n",
       " '77',\n",
       " '78',\n",
       " '79',\n",
       " '80',\n",
       " '81',\n",
       " '82',\n",
       " '83',\n",
       " '84',\n",
       " '85',\n",
       " '86',\n",
       " '87',\n",
       " '88',\n",
       " '89',\n",
       " '90',\n",
       " '91',\n",
       " '92',\n",
       " '93',\n",
       " '94',\n",
       " '95',\n",
       " '96',\n",
       " '97',\n",
       " '98',\n",
       " '99',\n",
       " '100',\n",
       " '101',\n",
       " '102',\n",
       " '103',\n",
       " '104',\n",
       " '105',\n",
       " '106',\n",
       " '107',\n",
       " '108',\n",
       " '109',\n",
       " '110',\n",
       " '111',\n",
       " '112',\n",
       " '113',\n",
       " '114',\n",
       " '115',\n",
       " '116',\n",
       " '117',\n",
       " '118',\n",
       " '119',\n",
       " '120',\n",
       " '121',\n",
       " '122',\n",
       " '123',\n",
       " '124',\n",
       " '125',\n",
       " '126',\n",
       " '127',\n",
       " '128',\n",
       " '129',\n",
       " '130',\n",
       " '131',\n",
       " '132',\n",
       " '133',\n",
       " '134',\n",
       " '135',\n",
       " '136',\n",
       " '137',\n",
       " '138',\n",
       " '139',\n",
       " '140',\n",
       " '141',\n",
       " '142',\n",
       " '143',\n",
       " '144',\n",
       " '145',\n",
       " '146',\n",
       " '147',\n",
       " '148',\n",
       " '149',\n",
       " '150',\n",
       " '151',\n",
       " '152',\n",
       " '153',\n",
       " '154',\n",
       " '155',\n",
       " '156',\n",
       " '157',\n",
       " '158',\n",
       " '159',\n",
       " '160',\n",
       " '161',\n",
       " '162',\n",
       " '163',\n",
       " '164',\n",
       " '165',\n",
       " '166',\n",
       " '167',\n",
       " '168',\n",
       " '169',\n",
       " '170',\n",
       " '171',\n",
       " '172',\n",
       " '173',\n",
       " '174',\n",
       " '175',\n",
       " '176',\n",
       " '177',\n",
       " '178',\n",
       " '179',\n",
       " '180',\n",
       " '181',\n",
       " '182',\n",
       " '183',\n",
       " '184',\n",
       " '185',\n",
       " '186',\n",
       " '187',\n",
       " '188',\n",
       " '189',\n",
       " '190',\n",
       " '191',\n",
       " '192',\n",
       " '193',\n",
       " '194',\n",
       " '195',\n",
       " '196',\n",
       " '197',\n",
       " '198',\n",
       " '199',\n",
       " '200',\n",
       " '201',\n",
       " '202',\n",
       " '203',\n",
       " '204',\n",
       " '205',\n",
       " '206',\n",
       " '207',\n",
       " '208',\n",
       " '209',\n",
       " '210',\n",
       " '211',\n",
       " '212',\n",
       " '213',\n",
       " '214',\n",
       " '215',\n",
       " '216',\n",
       " '217',\n",
       " '218',\n",
       " '219',\n",
       " '220',\n",
       " '221',\n",
       " '222',\n",
       " '223',\n",
       " '224',\n",
       " '225',\n",
       " '226',\n",
       " '227',\n",
       " '228',\n",
       " '229',\n",
       " '230',\n",
       " '231',\n",
       " '232',\n",
       " '233',\n",
       " '234',\n",
       " '235',\n",
       " '236',\n",
       " '237',\n",
       " '238',\n",
       " '239',\n",
       " '240',\n",
       " '241',\n",
       " '242',\n",
       " '243',\n",
       " '244',\n",
       " '245',\n",
       " '246',\n",
       " '247',\n",
       " '248',\n",
       " '249',\n",
       " '250',\n",
       " '251',\n",
       " '252',\n",
       " '253',\n",
       " '254',\n",
       " '255',\n",
       " '256',\n",
       " '257',\n",
       " '258',\n",
       " '259',\n",
       " '260',\n",
       " '261',\n",
       " '262',\n",
       " '263',\n",
       " '264',\n",
       " '265',\n",
       " '266',\n",
       " '267',\n",
       " '268',\n",
       " '269',\n",
       " '270',\n",
       " '271',\n",
       " '272',\n",
       " '273',\n",
       " '274',\n",
       " '275',\n",
       " '276',\n",
       " '277',\n",
       " '278',\n",
       " '279',\n",
       " '280',\n",
       " '281',\n",
       " '282',\n",
       " '283',\n",
       " '284',\n",
       " '285',\n",
       " '286',\n",
       " '287',\n",
       " '288',\n",
       " '289',\n",
       " '290',\n",
       " '291',\n",
       " '292',\n",
       " '293',\n",
       " '294',\n",
       " '295',\n",
       " '296',\n",
       " '297',\n",
       " '298',\n",
       " '299',\n",
       " '300',\n",
       " '301',\n",
       " '302',\n",
       " '303',\n",
       " '304',\n",
       " '305',\n",
       " '306',\n",
       " '307',\n",
       " '308',\n",
       " '309',\n",
       " '310',\n",
       " '311',\n",
       " '312',\n",
       " '313']"
      ]
     },
     "execution_count": 1,
     "metadata": {},
     "output_type": "execute_result"
    }
   ],
   "source": [
    "from src.llm_process.utils.load_vectordb import load_vectordb\n",
    "from src.llm_process.implement.bind_embedding_to_db import bind_embedding\n",
    "\n",
    "db = load_vectordb()\n",
    "bind_embedding(db)"
   ]
  },
  {
   "cell_type": "code",
   "execution_count": 2,
   "metadata": {},
   "outputs": [],
   "source": [
    "from src.llm_process.utils.load_vectordb import load_vectordb\n",
    "\n",
    "db = load_vectordb()"
   ]
  },
  {
   "cell_type": "code",
   "execution_count": 3,
   "metadata": {},
   "outputs": [
    {
     "name": "stdout",
     "output_type": "stream",
     "text": [
      "* 妳無論如何都唱不了嗎</unknown><unknown>是哪裡有問題呢</unknown><unknown>我沒在人面前唱過…</unknown><muzimi>主唱是樂隊的臉面吧</muzimi><muzimi>為什麼讓她來</muzimi><muzimi>立希</muzimi><soyo>小燈 不用太勉強的</soyo><unknown>為什麼是我呢</unknown><saki>因為是妳寫的歌詞啊</saki><saki>作者本人來唱肯定更好</saki><saki>妳的歌詞 就是內心的吶喊</saki><saki>我想要成為人</saki><rana>小祥</rana><saki>這裡可以隨便喊</saki><saki>來 一起喊吧</saki><unknown>想要成為人</unknown><unknown>我說 妳到底想唱嗎</unknown><taki>我…</taki><tomori>立希 [{'episode': '3'}]\n",
      "* 是挺難的</anon><anon>妳看班裡的圈子都形成了</anon><anon>是啊</anon><anon>妳和小燈原來就認識嗎</anon><anon>我也覺得</anon><other>妳早上和她說話了吧</other><other>沒有沒有</other><other>是我之前碰到過她在撿… [{'episode': '1'}]\n",
      "* 拜拜</other><tomori>那妳得先把結他彈好</tomori><tomori>彈唱太難了啦</tomori><anon>小燈應該沒有樂隊</anon><anon>愛音妳呢</anon><anon>嗯 稍微會一點</anon><anon>真的嗎</anon><anon>妳用過什麼樂器</anon><anon>算是結他主唱吧</anon><other>我也是我也是</other><anon>要不要一起</anon><anon>我們想唱Afterglow的歌</anon><other>不過還缺一個結他</other><anon>結他？</anon><ueka>也就是說…</ueka><nyamuchi>要在角落啊</nyamuchi><anon>謝謝妳</anon><anon>我考慮一下</anon><unknown>我回來了</unknown><anon>好累</anon><anon>笑得臉都僵了</anon><anon>不過 [{'episode': '1'}]\n",
      "* 立希</anon><soyo>態度好差</soyo><soyo>妳們為什麼有矛盾呢</soyo><anon>我也不懂</anon><anon>我正跟朋友說話呢 她就衝過來</anon><unknown>「有什麼事」</unknown><soyo>「妳真是她朋友嗎」</soyo><anon>「妳邀請燈組樂隊了嗎」之類的</anon><soyo>突然就對我發火 真是莫名其妙</soyo><anon>妳說的燈 是高松燈嗎？</anon><anon>是的 我們同班</anon><anon>那個…</anon><unknown>妳認識她嗎</unknown><soyo>我是她朋友</soyo><unknown>這樣啊</unknown><unknown>她原來在羽丘</unknown><anon>好甜</anon><nyamuchi>妳們是怎麼認識的呢</nyamuchi><soyo>妳要和小燈一起組樂隊嗎</soyo><anon>這個嘛 我被她拒絕了</anon><anon>對了 [{'episode': '2'}]\n",
      "* 妳的表情真不錯</saki><unknown>說是小燈的歌讓人感動</unknown><tomori>有回覆了嗎</tomori><muzimi>Live的tag點進去 也有很多感想</muzimi><muzimi>我看看</muzimi><muzimi>評論真的好多啊</muzimi><tomori>妳看</tomori><unknown>我好感動</unknown><unknown>CRYCHIC。當我注意到自己心中\\N湧出的感情時，已經完全被帶著走\\N了，不知為何咬緊了牙握緊了拳頭，\\N甚至哭了起來。\\N\\N雖然我還有些沒整理好情緒，但這個\\N樂隊真的很神奇。等我冷靜了再寫感\\N想。希望大家認識她們。\\N\\N無心之間進入了一家Live House。\\N不認識的樂隊，而且據說是初次Live。\\N我以為會一團糟，到結束卻覺得\\N感動？興奮？\\N\\N給了我強大的力量。就因為如此，\\N我才會周遊各家Live [{'episode': '3'}]\n",
      "* 我被她拒絕了</anon><anon>對了 妳說過妳也玩過樂隊吧</anon><soyo>我彈貝斯</soyo><soyo>小燈跟妳說什麼了嗎</soyo><soyo>這樣啊</soyo><unknown>妳的貝斯大概有什麼水平</unknown><unknown>一般吧 就社團活動彈彈</unknown><anon>那…</anon><anon>不過 確實有點太突然了吧</anon><anon>爽世同學</anon><anon>要一起組樂隊嗎</anon><soyo>好啊</soyo><anon>真的嗎</anon><anon>不過 我先從候補成員做起吧</anon><anon>那也沒問題</anon><anon>太好了</anon><anon>爽世同學 [{'episode': '2'}]\n",
      "* 對不起</tomori><anon>小燈</anon><taki>燈　大丈夫</taki><taki>燈 妳沒事吧</taki><taki>妳誰</taki><taki>有什麼事</taki><tomori>妳問我 妳是她的熟人嗎</tomori><tomori>是我在問妳呢</tomori><taki>等下</taki><soyo>妳這人 幹什麼</soyo><anon>我是她朋友</anon><taki>友達？</taki><taki>朋友？</taki><anon>是朋友 妳有意見嗎</anon><taki>妳剛才在追她吧</taki><anon>是因為她跑了我才追上來</anon><anon>我只是邀請她組樂隊</anon><taki>妳這人 邀請她組樂隊了嗎</taki><anon>是又怎麼樣</anon><anon>我說 妳一口一個「妳這人」…</anon><taki>最悪</taki><taki>太過份了</taki><anon>不會再邀請了</anon> [{'episode': '1'}]\n",
      "* 我叫愛音</taki><unknown>誰問妳了</unknown><rana>爽世同學 妳聽聽她說的</rana><rana>有趣的女人</rana><unknown>好奇怪的一天</unknown><anon>不過樂隊組好了 倒是好事</anon><anon>如果知道我要跟小燈組樂隊</anon><anon>大家會是什麼表情呢</anon><anon>早呀</anon><anon>碰到什麼好事了嗎</anon><anon>倒是也沒什麼</anon><anon>話說練習該怎麼辦</anon><anon>我們的樂隊練習</anon><other>樂隊？</other><other>小燈要組樂隊嗎</other><tomori>我還以為妳不感興趣呢</tomori><tomori>原來妳喜歡樂隊嗎</tomori><anon>我…</anon><anon>咦 我呢</anon><umirin>妳想把飲料撒出來嗎</umirin><taki>妳很開心嘛</taki><taki>並沒有</taki><umirin>我怎麼不知道妳平常大清早就會懸空打鼓</umirin><taki>海鈴 [{'episode': '4'}]\n",
      "* 卻好像獨自一人</saki><muzimi>我多想像大家一樣地活著</muzimi><muzimi>想要成為人</muzimi><saki>忘了自我介紹了</saki><unknown>我叫豐川祥子</unknown><saki>妳叫什麼名字</saki><saki>燈同學</saki><saki>妳願不願意和我組建樂隊呢</saki><unknown>樂隊…？</unknown><saki>小燈原來住在月之森後面啊</saki><muzimi>平常可能擦肩而過過</muzimi><muzimi>爽世同學是貝斯手</muzimi><saki>她在吹奏樂部演奏低音提琴</saki><soyo>前幾天的月之森音樂節上</soyo><soyo>我看到了她精彩的演奏 就去邀請她了</soyo><soyo>突然被叫住 我還很驚訝</soyo><saki>這位是睦 [{'episode': '3'}]\n",
      "* 才利用妳們</taki><anon>聽到那麼過份的話還繼續練 很了不起</anon><anon>妳也太不會道歉了</anon><taki>立希</taki><other>週末的Live 曲目表定好了嗎</other><unknown>RiNG Live 時間表</unknown><unknown>真的有預約</unknown><taki>我都忘記了</taki><taki>大丈夫</taki><taki>沒問題嗎</taki><taki>小燈之前是盡量多約的吧</taki><taki>怎麼辦 離正式演出還剩三天了</taki><taki>難以置信</taki><tomori>之前那首歌</tomori><taki>是什麼樣來著</taki><soyo>我突然被拉上臺 [{'episode': '11'}]\n"
     ]
    }
   ],
   "source": [
    "results = db.similarity_search(\n",
    "    \"你是小燈嗎？\", k=10\n",
    ")\n",
    "for doc in results:\n",
    "    print(f\"* {doc.page_content} [{doc.metadata}]\")"
   ]
  },
  {
   "cell_type": "code",
   "execution_count": 10,
   "metadata": {},
   "outputs": [],
   "source": [
    "from src.llm_process.utils.load_vectordb import load_vectordb\n",
    "\n",
    "db = load_vectordb()\n",
    "retriever = db.as_retriever()"
   ]
  },
  {
   "cell_type": "code",
   "execution_count": 11,
   "metadata": {},
   "outputs": [
    {
     "data": {
      "text/plain": [
       "[Document(id='66', metadata={'episode': '3'}, page_content='妳無論如何都唱不了嗎</unknown><unknown>是哪裡有問題呢</unknown><unknown>我沒在人面前唱過…</unknown><muzimi>主唱是樂隊的臉面吧</muzimi><muzimi>為什麼讓她來</muzimi><muzimi>立希</muzimi><soyo>小燈 不用太勉強的</soyo><unknown>為什麼是我呢</unknown><saki>因為是妳寫的歌詞啊</saki><saki>作者本人來唱肯定更好</saki><saki>妳的歌詞 就是內心的吶喊</saki><saki>我想要成為人</saki><rana>小祥</rana><saki>這裡可以隨便喊</saki><saki>來 一起喊吧</saki><unknown>想要成為人</unknown><unknown>我說 妳到底想唱嗎</unknown><taki>我…</taki><tomori>立希'),\n",
       " Document(id='6', metadata={'episode': '1'}, page_content='是挺難的</anon><anon>妳看班裡的圈子都形成了</anon><anon>是啊</anon><anon>妳和小燈原來就認識嗎</anon><anon>我也覺得</anon><other>妳早上和她說話了吧</other><other>沒有沒有</other><other>是我之前碰到過她在撿…'),\n",
       " Document(id='8', metadata={'episode': '1'}, page_content='拜拜</other><tomori>那妳得先把結他彈好</tomori><tomori>彈唱太難了啦</tomori><anon>小燈應該沒有樂隊</anon><anon>愛音妳呢</anon><anon>嗯 稍微會一點</anon><anon>真的嗎</anon><anon>妳用過什麼樂器</anon><anon>算是結他主唱吧</anon><other>我也是我也是</other><anon>要不要一起</anon><anon>我們想唱Afterglow的歌</anon><other>不過還缺一個結他</other><anon>結他？</anon><ueka>也就是說…</ueka><nyamuchi>要在角落啊</nyamuchi><anon>謝謝妳</anon><anon>我考慮一下</anon><unknown>我回來了</unknown><anon>好累</anon><anon>笑得臉都僵了</anon><anon>不過'),\n",
       " Document(id='36', metadata={'episode': '2'}, page_content='立希</anon><soyo>態度好差</soyo><soyo>妳們為什麼有矛盾呢</soyo><anon>我也不懂</anon><anon>我正跟朋友說話呢 她就衝過來</anon><unknown>「有什麼事」</unknown><soyo>「妳真是她朋友嗎」</soyo><anon>「妳邀請燈組樂隊了嗎」之類的</anon><soyo>突然就對我發火 真是莫名其妙</soyo><anon>妳說的燈 是高松燈嗎？</anon><anon>是的 我們同班</anon><anon>那個…</anon><unknown>妳認識她嗎</unknown><soyo>我是她朋友</soyo><unknown>這樣啊</unknown><unknown>她原來在羽丘</unknown><anon>好甜</anon><nyamuchi>妳們是怎麼認識的呢</nyamuchi><soyo>妳要和小燈一起組樂隊嗎</soyo><anon>這個嘛 我被她拒絕了</anon><anon>對了')]"
      ]
     },
     "execution_count": 11,
     "metadata": {},
     "output_type": "execute_result"
    }
   ],
   "source": [
    "retrieved_documents = retriever.invoke(\"你是小燈嗎\")\n",
    "retrieved_documents"
   ]
  },
  {
   "cell_type": "code",
   "execution_count": 1,
   "metadata": {},
   "outputs": [],
   "source": [
    "from src.llm_process.utils.load_model import load_model\n",
    "\n",
    "llm = load_model()"
   ]
  },
  {
   "cell_type": "code",
   "execution_count": 2,
   "metadata": {},
   "outputs": [
    {
     "data": {
      "text/plain": [
       "ChatOpenAI(client=<openai.resources.chat.completions.Completions object at 0x000001E95B8BE090>, async_client=<openai.resources.chat.completions.AsyncCompletions object at 0x000001E95B8BFE90>, root_client=<openai.OpenAI object at 0x000001E95B6B5280>, root_async_client=<openai.AsyncOpenAI object at 0x000001E95B8BE0F0>, model_name='qwen2.5:7b', temperature=0.4, model_kwargs={}, openai_api_key=SecretStr('**********'), openai_api_base='http://localhost:11434/v1', presence_penalty=0.0, frequency_penalty=0.0, top_p=1.0, max_tokens=2048)"
      ]
     },
     "execution_count": 2,
     "metadata": {},
     "output_type": "execute_result"
    }
   ],
   "source": [
    "llm"
   ]
  },
  {
   "cell_type": "code",
   "execution_count": 1,
   "metadata": {},
   "outputs": [
    {
     "name": "stderr",
     "output_type": "stream",
     "text": [
      "c:\\Users\\AORUS\\Desktop\\program\\mygo_llm\\mygo\\Lib\\site-packages\\tqdm\\auto.py:21: TqdmWarning: IProgress not found. Please update jupyter and ipywidgets. See https://ipywidgets.readthedocs.io/en/stable/user_install.html\n",
      "  from .autonotebook import tqdm as notebook_tqdm\n"
     ]
    }
   ],
   "source": [
    "from src.llm_process.entity.llm_entity import LLMWrapper\n",
    "\n",
    "predictor = LLMWrapper()"
   ]
  },
  {
   "cell_type": "code",
   "execution_count": 3,
   "metadata": {},
   "outputs": [
    {
     "name": "stdout",
     "output_type": "stream",
     "text": [
      "speech: 離開這裡之前，我們先來享受這美好的早晨吧。 - reply no fulfill the condition... try again\n",
      "speech: 风和日丽，早餐吃到饱。 - reply no fulfill the condition... try again\n"
     ]
    },
    {
     "data": {
      "text/plain": [
       "'speech: 已讀 2'"
      ]
     },
     "execution_count": 3,
     "metadata": {},
     "output_type": "execute_result"
    }
   ],
   "source": [
    "predictor.speak(\"風和日麗 早餐吃到飽\")[0]"
   ]
  },
  {
   "cell_type": "code",
   "execution_count": null,
   "metadata": {},
   "outputs": [],
   "source": []
  }
 ],
 "metadata": {
  "kernelspec": {
   "display_name": "mygo",
   "language": "python",
   "name": "python3"
  },
  "language_info": {
   "codemirror_mode": {
    "name": "ipython",
    "version": 3
   },
   "file_extension": ".py",
   "mimetype": "text/x-python",
   "name": "python",
   "nbconvert_exporter": "python",
   "pygments_lexer": "ipython3",
   "version": "3.12.6"
  }
 },
 "nbformat": 4,
 "nbformat_minor": 2
}
